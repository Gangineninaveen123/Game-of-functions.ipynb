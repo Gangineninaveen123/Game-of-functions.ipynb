{
 "cells": [
  {
   "cell_type": "code",
   "execution_count": 1,
   "id": "65c877c2",
   "metadata": {},
   "outputs": [
    {
     "name": "stdout",
     "output_type": "stream",
     "text": [
      "8+2+3+0+7 =  20\n"
     ]
    }
   ],
   "source": [
    "def my_func(*args):\n",
    "    sum=0\n",
    "    for i in args:\n",
    "        sum=sum+i\n",
    "    return sum\n",
    "addition_of_my_func = my_func(8,2,3,0,7)\n",
    "print('8+2+3+0+7 = ',addition_of_my_func)\n"
   ]
  },
  {
   "cell_type": "code",
   "execution_count": null,
   "id": "05ee6571",
   "metadata": {},
   "outputs": [],
   "source": []
  }
 ],
 "metadata": {
  "kernelspec": {
   "display_name": "Python 3",
   "language": "python",
   "name": "python3"
  },
  "language_info": {
   "codemirror_mode": {
    "name": "ipython",
    "version": 3
   },
   "file_extension": ".py",
   "mimetype": "text/x-python",
   "name": "python",
   "nbconvert_exporter": "python",
   "pygments_lexer": "ipython3",
   "version": "3.6.9"
  }
 },
 "nbformat": 4,
 "nbformat_minor": 5
}
